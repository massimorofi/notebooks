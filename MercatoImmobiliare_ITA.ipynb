{
  "nbformat": 4,
  "nbformat_minor": 0,
  "metadata": {
    "colab": {
      "provenance": [],
      "authorship_tag": "ABX9TyO03JXbSbqylb2wLc4fA9cU",
      "include_colab_link": true
    },
    "kernelspec": {
      "name": "python3",
      "display_name": "Python 3"
    },
    "language_info": {
      "name": "python"
    }
  },
  "cells": [
    {
      "cell_type": "markdown",
      "metadata": {
        "id": "view-in-github",
        "colab_type": "text"
      },
      "source": [
        "<a href=\"https://colab.research.google.com/github/massimorofi/notebooks/blob/main/MercatoImmobiliare_ITA.ipynb\" target=\"_parent\"><img src=\"https://colab.research.google.com/assets/colab-badge.svg\" alt=\"Open In Colab\"/></a>"
      ]
    },
    {
      "cell_type": "markdown",
      "source": [
        "Mercato Immobiliare Italiano\n"
      ],
      "metadata": {
        "id": "2Tpm431ce31x"
      }
    },
    {
      "cell_type": "code",
      "source": [
        "import requests\n",
        "from bs4 import BeautifulSoup\n",
        "import pandas as pd\n",
        "\n",
        "def fetch_table_data(url, xpath):\n",
        "    \"\"\"Fetches data from an HTML table specified by an XPath location.\"\"\"\n",
        "    response = requests.get(url)\n",
        "    soup = BeautifulSoup(response.content, \"html.parser\")\n",
        "    table_data = soup.find_all(name=\"table\")[0]\n",
        "    table_rows = table_data.find_all(\"tr\")\n",
        "    data = []\n",
        "    for row in table_rows:\n",
        "        row_data = [cell.text for cell in row.find_all(\"td\")]\n",
        "        data.append(row_data)\n",
        "    return pd.DataFrame(data)\n",
        "\n",
        "# Replace placeholder URL and XPath location here\n",
        "url = \"https://www.example.com/table.html\"\n",
        "xpath = \"//table[@id='my_table']\"\n",
        "\n",
        "# Load data into a Pandas DataFrame and display it\n",
        "data = fetch_table_data(url, xpath)\n",
        "print(data)\n"
      ],
      "metadata": {
        "id": "HYSYaJPHfE9S"
      },
      "execution_count": null,
      "outputs": []
    }
  ]
}